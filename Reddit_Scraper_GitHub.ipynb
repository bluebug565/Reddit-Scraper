{
 "cells": [
  {
   "cell_type": "markdown",
   "metadata": {},
   "source": [
    "#### Date: 26 January 2020\n",
    "#### Description: The code below gets relevant details (including the top comment) from the top n posts in a specific subreddit.\n"
   ]
  },
  {
   "cell_type": "code",
   "execution_count": 1,
   "metadata": {},
   "outputs": [
    {
     "name": "stdout",
     "output_type": "stream",
     "text": [
      "hello, friend\n"
     ]
    }
   ],
   "source": [
    "print(\"hello, friend\")"
   ]
  },
  {
   "cell_type": "code",
   "execution_count": 3,
   "metadata": {},
   "outputs": [],
   "source": [
    "# !pip install praw"
   ]
  },
  {
   "cell_type": "code",
   "execution_count": 4,
   "metadata": {},
   "outputs": [],
   "source": [
    "import pandas as pd\n",
    "import datetime as dt\n",
    "import praw\n",
    "from praw.models import MoreComments\n"
   ]
  },
  {
   "cell_type": "code",
   "execution_count": 5,
   "metadata": {},
   "outputs": [],
   "source": [
    "# Define the relevant authentication details:\n",
    "\n",
    "reddit = praw.Reddit(client_id='***********', \\\n",
    "                    client_secret='***********', \\\n",
    "                    user_agent='***********', \\\n",
    "                    username='***********', \\\n",
    "                    password='***********')\n"
   ]
  },
  {
   "cell_type": "code",
   "execution_count": 6,
   "metadata": {},
   "outputs": [],
   "source": [
    "# Define the relevant subreddit:\n",
    "\n",
    "#subreddit = reddit.subreddit('facepalm')\n",
    "\n",
    "subreddit = reddit.subreddit('politics')\n"
   ]
  },
  {
   "cell_type": "code",
   "execution_count": 7,
   "metadata": {},
   "outputs": [],
   "source": [
    "# Define the relevant details for the dictionary:\n",
    "\n",
    "topics_dict = { \"title\":[], \\\n",
    "                \"score\":[], \\\n",
    "                \"id\":[], \\\n",
    "                \"url\":[], \\\n",
    "                \"comms_num\":[], \\\n",
    "                \"created\":[], \\\n",
    "                \"top_comment\": [], \\\n",
    "                \"body\":[]}\n"
   ]
  },
  {
   "cell_type": "code",
   "execution_count": 8,
   "metadata": {},
   "outputs": [],
   "source": [
    "# Define a function that gets the top comment in a given subreddit post:\n",
    "\n",
    "def find_top_comment(submission_comments):\n",
    "    counter = 1\n",
    "    for top_level_comment in submission.comments:\n",
    "        if counter <= 1:\n",
    "            if isinstance(top_level_comment, MoreComments):\n",
    "                continue\n",
    "            top_comment = top_level_comment.body\n",
    "            counter += 1\n",
    "    return top_comment\n",
    "\n",
    "# Limit the number of posts in the given subreddit to 10:\n",
    "\n",
    "top_subreddit = subreddit.top(limit=50)\n",
    "\n",
    "# For each post, get relevant details and append them to a dictionary:\n",
    "\n",
    "for submission in top_subreddit:\n",
    "    topics_dict[\"title\"].append(submission.title)\n",
    "    topics_dict[\"score\"].append(submission.score)\n",
    "    topics_dict[\"id\"].append(submission.id)\n",
    "    topics_dict[\"url\"].append(submission.url)\n",
    "    topics_dict[\"comms_num\"].append(submission.num_comments)\n",
    "    topics_dict[\"created\"].append(submission.created)\n",
    "    topics_dict[\"top_comment\"].append(find_top_comment(submission.comments))\n",
    "    topics_dict[\"body\"].append(submission.selftext)\n",
    "    "
   ]
  },
  {
   "cell_type": "code",
   "execution_count": 9,
   "metadata": {},
   "outputs": [],
   "source": [
    "# Convert the above dictionary to a dataframe:\n",
    "\n",
    "topics_data = pd.DataFrame(topics_dict)\n"
   ]
  },
  {
   "cell_type": "code",
   "execution_count": 10,
   "metadata": {},
   "outputs": [],
   "source": [
    "# Define a function to convert the datetime format:\n",
    "\n",
    "def get_date(created):\n",
    "    return dt.datetime.fromtimestamp(created)\n",
    "\n",
    "# Apply the above function to the entire \"created\" series in the \"topics_data\" dataframe:\n",
    "\n",
    "_timestamp = topics_data[\"created\"].apply(get_date)\n",
    "\n",
    "# Add the \"_timestamp\" series to the \"topics_data\" dataframe:\n",
    "\n",
    "topics_data = topics_data.assign(timestamp = _timestamp)\n"
   ]
  },
  {
   "cell_type": "code",
   "execution_count": 11,
   "metadata": {},
   "outputs": [
    {
     "data": {
      "text/html": [
       "<div>\n",
       "<style scoped>\n",
       "    .dataframe tbody tr th:only-of-type {\n",
       "        vertical-align: middle;\n",
       "    }\n",
       "\n",
       "    .dataframe tbody tr th {\n",
       "        vertical-align: top;\n",
       "    }\n",
       "\n",
       "    .dataframe thead th {\n",
       "        text-align: right;\n",
       "    }\n",
       "</style>\n",
       "<table border=\"1\" class=\"dataframe\">\n",
       "  <thead>\n",
       "    <tr style=\"text-align: right;\">\n",
       "      <th></th>\n",
       "      <th>title</th>\n",
       "      <th>score</th>\n",
       "      <th>id</th>\n",
       "      <th>url</th>\n",
       "      <th>comms_num</th>\n",
       "      <th>created</th>\n",
       "      <th>top_comment</th>\n",
       "      <th>body</th>\n",
       "      <th>timestamp</th>\n",
       "    </tr>\n",
       "  </thead>\n",
       "  <tbody>\n",
       "    <tr>\n",
       "      <td>0</td>\n",
       "      <td>Megathread: House Votes to Impeach President D...</td>\n",
       "      <td>144343</td>\n",
       "      <td>ecm1zg</td>\n",
       "      <td>https://www.reddit.com/r/politics/comments/ecm...</td>\n",
       "      <td>52606</td>\n",
       "      <td>1.576748e+09</td>\n",
       "      <td>https://twitter.com/NaveedAJamali/status/12074...</td>\n",
       "      <td>The United States House of Representatives has...</td>\n",
       "      <td>2019-12-19 15:06:13</td>\n",
       "    </tr>\n",
       "    <tr>\n",
       "      <td>1</td>\n",
       "      <td>Kim Davis, clerk who refused to sign marriage ...</td>\n",
       "      <td>101994</td>\n",
       "      <td>9uuhl3</td>\n",
       "      <td>https://www.kentucky.com/news/politics-governm...</td>\n",
       "      <td>2763</td>\n",
       "      <td>1.541581e+09</td>\n",
       "      <td>\\nAs a reminder, this subreddit [is for civil ...</td>\n",
       "      <td></td>\n",
       "      <td>2018-11-07 14:32:55</td>\n",
       "    </tr>\n",
       "    <tr>\n",
       "      <td>2</td>\n",
       "      <td>Trump revealed highly classified information t...</td>\n",
       "      <td>99357</td>\n",
       "      <td>6bd42j</td>\n",
       "      <td>https://www.washingtonpost.com/world/national-...</td>\n",
       "      <td>20809</td>\n",
       "      <td>1.494911e+09</td>\n",
       "      <td>\\nAs a reminder, this subreddit [is for civil ...</td>\n",
       "      <td></td>\n",
       "      <td>2017-05-16 10:33:22</td>\n",
       "    </tr>\n",
       "    <tr>\n",
       "      <td>3</td>\n",
       "      <td>Trump Ordered Mueller Fired, but Backed Off Wh...</td>\n",
       "      <td>95199</td>\n",
       "      <td>7t12e6</td>\n",
       "      <td>https://www.nytimes.com/2018/01/25/us/politics...</td>\n",
       "      <td>14503</td>\n",
       "      <td>1.516958e+09</td>\n",
       "      <td>\\nAs a reminder, this subreddit [is for civil ...</td>\n",
       "      <td></td>\n",
       "      <td>2018-01-26 14:46:11</td>\n",
       "    </tr>\n",
       "    <tr>\n",
       "      <td>4</td>\n",
       "      <td>Jon Stewart Goes Off On Congress During 9/11 H...</td>\n",
       "      <td>93520</td>\n",
       "      <td>bzenag</td>\n",
       "      <td>https://www.youtube.com/watch?v=iQkMJgaHAkY</td>\n",
       "      <td>6514</td>\n",
       "      <td>1.560299e+09</td>\n",
       "      <td>\\nAs a reminder, this subreddit [is for civil ...</td>\n",
       "      <td></td>\n",
       "      <td>2019-06-12 06:00:15</td>\n",
       "    </tr>\n",
       "  </tbody>\n",
       "</table>\n",
       "</div>"
      ],
      "text/plain": [
       "                                               title   score      id  \\\n",
       "0  Megathread: House Votes to Impeach President D...  144343  ecm1zg   \n",
       "1  Kim Davis, clerk who refused to sign marriage ...  101994  9uuhl3   \n",
       "2  Trump revealed highly classified information t...   99357  6bd42j   \n",
       "3  Trump Ordered Mueller Fired, but Backed Off Wh...   95199  7t12e6   \n",
       "4  Jon Stewart Goes Off On Congress During 9/11 H...   93520  bzenag   \n",
       "\n",
       "                                                 url  comms_num       created  \\\n",
       "0  https://www.reddit.com/r/politics/comments/ecm...      52606  1.576748e+09   \n",
       "1  https://www.kentucky.com/news/politics-governm...       2763  1.541581e+09   \n",
       "2  https://www.washingtonpost.com/world/national-...      20809  1.494911e+09   \n",
       "3  https://www.nytimes.com/2018/01/25/us/politics...      14503  1.516958e+09   \n",
       "4        https://www.youtube.com/watch?v=iQkMJgaHAkY       6514  1.560299e+09   \n",
       "\n",
       "                                         top_comment  \\\n",
       "0  https://twitter.com/NaveedAJamali/status/12074...   \n",
       "1  \\nAs a reminder, this subreddit [is for civil ...   \n",
       "2  \\nAs a reminder, this subreddit [is for civil ...   \n",
       "3  \\nAs a reminder, this subreddit [is for civil ...   \n",
       "4  \\nAs a reminder, this subreddit [is for civil ...   \n",
       "\n",
       "                                                body           timestamp  \n",
       "0  The United States House of Representatives has... 2019-12-19 15:06:13  \n",
       "1                                                    2018-11-07 14:32:55  \n",
       "2                                                    2017-05-16 10:33:22  \n",
       "3                                                    2018-01-26 14:46:11  \n",
       "4                                                    2019-06-12 06:00:15  "
      ]
     },
     "execution_count": 11,
     "metadata": {},
     "output_type": "execute_result"
    }
   ],
   "source": [
    "topics_data.head()"
   ]
  },
  {
   "cell_type": "code",
   "execution_count": 13,
   "metadata": {},
   "outputs": [],
   "source": [
    "topics_data.to_csv(r'C:\\Users\\HP-PC\\Desktop\\2. WORK\\2. CODE\\1. Jupyter Notebooks\\16. Reddit Scraper\\OUTPUT\\Output_politics.csv')"
   ]
  },
  {
   "cell_type": "code",
   "execution_count": null,
   "metadata": {},
   "outputs": [],
   "source": []
  },
  {
   "cell_type": "code",
   "execution_count": null,
   "metadata": {},
   "outputs": [],
   "source": [
    "# Sources: \n",
    "# 1) https://www.storybench.org/how-to-scrape-reddit-with-python/\n",
    "# 2) https://github.com/aleszu/reddit-sentiment-analysis/blob/master/r_subreddit.py\n",
    "# 3) https://towardsdatascience.com/scraping-reddit-data-1c0af3040768\n"
   ]
  },
  {
   "cell_type": "code",
   "execution_count": null,
   "metadata": {},
   "outputs": [],
   "source": []
  }
 ],
 "metadata": {
  "kernelspec": {
   "display_name": "Python 3",
   "language": "python",
   "name": "python3"
  },
  "language_info": {
   "codemirror_mode": {
    "name": "ipython",
    "version": 3
   },
   "file_extension": ".py",
   "mimetype": "text/x-python",
   "name": "python",
   "nbconvert_exporter": "python",
   "pygments_lexer": "ipython3",
   "version": "3.7.4"
  }
 },
 "nbformat": 4,
 "nbformat_minor": 2
}
